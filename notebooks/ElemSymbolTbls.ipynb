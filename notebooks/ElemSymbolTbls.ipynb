{
 "cells": [
  {
   "cell_type": "markdown",
   "metadata": {},
   "source": [
    "# [Elementary Symbol Tables](http://algs4.cs.princeton.edu/31elementary/)\n",
    "\n",
    "## Python Code\n",
    "  1. **Symbol Table API**   \n",
    "     A Symbol Table is a collection of key-value pairs, where the key is the Symbol.    \n",
    "    1.1) [**Date.py**](https://github.com/dvklopfenstein/PrincetonAlgorithms/blob/master/py/AlgsSedgewickWayne/Date.py) is an example of an user-created immutable type which can be used as a key    \n",
    "    1.2) Client for *ST.py*: *FrequencyCounter.py*    \n",
    "  2. **Elementary Symbol Table Implementations**    \n",
    "    2.1) *SequentialSearchST.py*, an unordered linked-list    \n",
    "    2.2) *BinarySearchST.py*, ordered array. Fast lookup (slow insert)    \n",
    "  3. **Ordered Operations**: get, put, delete, size, min, max, floor, ceiling, rank, etc.     \n",
    "    3.1) *ST.py*    \n",
    "  4. [**Binary Search Trees**](http://algs4.cs.princeton.edu/32bst) A binary tree in symmetric order    \n",
    "    A classic data structure that enables us to provide efficient \n",
    "    implementations of Symbol Table algorithms    \n",
    "    4.1) [**BST.py**](https://github.com/dvklopfenstein/PrincetonAlgorithms/blob/master/py/AlgsSedgewickWayne/BST.py)    \n",
    "  5. **Ordered Operations in BSTs**    \n",
    "  6. **Deletion in BSTs**    "
   ]
  },
  {
   "cell_type": "markdown",
   "metadata": {},
   "source": [
    "## Table of Contents for Examples\n",
    "  1. [**EX1**](#EX1) **Order of \"put\"s determine tree shape**    "
   ]
  },
  {
   "cell_type": "markdown",
   "metadata": {},
   "source": [
    "## Examples \n",
    "### [EX1](#table-of-contents-for-examples) **Order of \"put\"s determine tree shape**    \n",
    "14:30 There are many different BSTs that correspond to the same set of keys.    \n",
    "The number of compares depends on the order in which the keys come in."
   ]
  },
  {
   "cell_type": "code",
   "execution_count": 1,
   "metadata": {
    "collapsed": false
   },
   "outputs": [],
   "source": [
    "# Setup for running examples\n",
    "import sys\n",
    "import os\n",
    "sys.path.insert(0, '{GIT}/PrincetonAlgorithms/py'.format(GIT=os.environ['GIT']))\n",
    "from AlgsSedgewickWayne.BST import BST\n",
    "\n",
    "# Function to convert keys to key-value pairs where\n",
    "#   1. the key is the letter and\n",
    "#   2. the value is the index into the key list\n",
    "get_kv = lambda keys: [(k, v) for v, k in enumerate(keys)]"
   ]
  },
  {
   "cell_type": "markdown",
   "metadata": {},
   "source": [
    "#### Tree shape: Best case"
   ]
  },
  {
   "cell_type": "code",
   "execution_count": 2,
   "metadata": {
    "collapsed": false
   },
   "outputs": [
    {
     "name": "stdout",
     "output_type": "stream",
     "text": [
      "  wrote: BST_bc0.png\n",
      "  wrote: BST_bc1.png\n",
      "  wrote: BST_bc2.png\n"
     ]
    }
   ],
   "source": [
    "# All of these will create the same best case tree shape \n",
    "# Each example has the same keys, but different values\n",
    "BST(get_kv(['H', 'C', 'S', 'A', 'E', 'R', 'X'])).wr_png(\"BST_bc0.png\")\n",
    "BST(get_kv(['H', 'S', 'X', 'R', 'C', 'E', 'A'])).wr_png(\"BST_bc1.png\")\n",
    "BST(get_kv(['H', 'C', 'A', 'E', 'S', 'R', 'X'])).wr_png(\"BST_bc2.png\")"
   ]
  },
  {
   "cell_type": "markdown",
   "metadata": {
    "collapsed": true
   },
   "source": [
    "### Best Case Tree Shape\n",
    "![BST Best Case](./images/BST_bc.png)"
   ]
  },
  {
   "cell_type": "markdown",
   "metadata": {},
   "source": [
    "#### Tree shape: Worst case"
   ]
  },
  {
   "cell_type": "code",
   "execution_count": 3,
   "metadata": {
    "collapsed": false
   },
   "outputs": [
    {
     "name": "stdout",
     "output_type": "stream",
     "text": [
      "  wrote: BST_wc_fwd.png\n",
      "  wrote: BST_wc_rev.png\n"
     ]
    }
   ],
   "source": [
    "# These will create worst case tree shapes\n",
    "BST(get_kv(['A', 'C', 'E', 'H', 'R', 'S', 'X'])).wr_png(\"BST_wc_fwd.png\")\n",
    "BST(get_kv(['X', 'S', 'R', 'H', 'E', 'C', 'A'])).wr_png(\"BST_wc_rev.png\")"
   ]
  },
  {
   "cell_type": "markdown",
   "metadata": {},
   "source": [
    "### Worst Case Tree Shape    \n",
    "\n",
    "|Incrementing Order: A C E H R S X|Decrementing Order: X S R H E C A|\n",
    "|---|---|\n",
    "|![WCF](./images/BST_wc_fwd.png)|![WCR](./images/BST_wc_rev.png)|"
   ]
  }
 ],
 "metadata": {
  "kernelspec": {
   "display_name": "Python 2",
   "language": "python",
   "name": "python2"
  },
  "language_info": {
   "codemirror_mode": {
    "name": "ipython",
    "version": 2
   },
   "file_extension": ".py",
   "mimetype": "text/x-python",
   "name": "python",
   "nbconvert_exporter": "python",
   "pygments_lexer": "ipython2",
   "version": "2.7.11"
  }
 },
 "nbformat": 4,
 "nbformat_minor": 0
}
