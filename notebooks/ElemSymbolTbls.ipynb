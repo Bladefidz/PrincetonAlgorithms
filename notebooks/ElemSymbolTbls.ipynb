{
 "cells": [
  {
   "cell_type": "markdown",
   "metadata": {},
   "source": [
    "# [Elementary Symbol Tables](http://algs4.cs.princeton.edu/31elementary/)\n",
    "\n",
    "## Code\n",
    "  1. **Symbol Table API**     \n",
    "    * [**Date.py**](https://github.com/dvklopfenstein/PrincetonAlgorithms/blob/master/py/AlgsSedgewickWayne/Date.py) \n",
    "      is an immutable type example which can be used as a key    \n",
    "    * Client for **ST.py**: **FrequencyCounter.py**    \n",
    "  2. **Elementary Symbol Table Implementations**    \n",
    "    * **SequentialSearchST.py**, an unordered linked-list    \n",
    "    * **BinarySearchST.py**, ordered array. Fast lookup (slow insert)    \n",
    "  3. **Ordered Operations**: get, put, delete, size, min, max, floor, ceiling, rank, etc.    \n",
    "    * **ST.py**    \n",
    "  4. [**Binary Search Trees**](http://algs4.cs.princeton.edu/32bst) A binary tree in symmetric order    \n",
    "    A classic data structure that enables us to provide efficient \n",
    "    implementations of Symbol Table algorithms\n",
    "    * [**BST.py**](https://github.com/dvklopfenstein/PrincetonAlgorithms/blob/master/py/AlgsSedgewickWayne/BST.py)    \n",
    "  5. **Ordered Operations in BSTs**    \n",
    "  6. **Deletion in BSTs**    \n",
    "\n",
    "\n"
   ]
  },
  {
   "cell_type": "markdown",
   "metadata": {},
   "source": [
    "## Table of Contents for Examples\n",
    "  1. [Run Example](#ex1)"
   ]
  },
  {
   "cell_type": "markdown",
   "metadata": {},
   "source": [
    "## Examples \n",
    "### [ex1](#table-of-contents-for-examples)\n",
    "1. Run Example"
   ]
  }
 ],
 "metadata": {
  "kernelspec": {
   "display_name": "Python 2",
   "language": "python",
   "name": "python2"
  },
  "language_info": {
   "codemirror_mode": {
    "name": "ipython",
    "version": 2
   },
   "file_extension": ".py",
   "mimetype": "text/x-python",
   "name": "python",
   "nbconvert_exporter": "python",
   "pygments_lexer": "ipython2",
   "version": "2.7.11"
  }
 },
 "nbformat": 4,
 "nbformat_minor": 0
}
